{
 "cells": [
  {
   "cell_type": "markdown",
   "id": "5a7352ce",
   "metadata": {},
   "source": [
    "<a href=\"http://www.cosmostat.org/\" target=\"_blank\"><img src=\"http://www.cosmostat.org/wp-content/uploads/2017/07/CosmoStat-Logo_WhiteBK-e1499155861666.png\" width=200 align=\"left\" ></a>\n",
    "<a href=\"https://joliot.cea.fr/drf/joliot/en/Pages/research_entities/NeuroSpin.aspx\" target=\"_blank\"><img src=\"https://pbs.twimg.com/profile_images/378800000664338392/19732a5beb460c501c201b54fcd74ae6.jpeg\" width=70 align=\"left\"></a>\n",
    "<a href=\"https://www.cea.fr/\" target=\"_blank\"><img src=\"https://upload.wikimedia.org/wikipedia/commons/9/91/CEA_logo_nouveau.svg\" width=86 align=\"right\"></a>"
   ]
  },
  {
   "cell_type": "markdown",
   "id": "492084b7",
   "metadata": {},
   "source": [
    "# Hand-On Image Processing with PySAP\n",
    "\n",
    "> Author: [Samuel Farrens](http://www.cosmostat.org/people/sfarrens)    \n",
    "> [Where the Earth Meets the Sky workshop](https://indico.nbi.ku.dk/event/1330/), May 2021\n",
    "\n",
    "<img src=\"https://github.com/CEA-COSMIC/pysap/raw/master/doc/images/schema.jpg\" width=400>\n",
    "\n"
   ]
  },
  {
   "cell_type": "markdown",
   "id": "e6b60aac",
   "metadata": {},
   "source": [
    "#### Abstract\n",
    "\n",
    "PySAP (Python Sparse data Analysis Package) is an open-source, multidisciplinary image processing tool developed in collaboration between astrophysicists and biomedical imaging experts at CEA Paris-Saclay through the [COSMIC project](http://cosmic.cosmostat.org/) (see [Farrens et. al (2020)](https://arxiv.org/abs/1910.08465)). The objective of this collaboration being to share the image processing experience gained in different domains with the community.\n",
    "\n",
    "In this hands-on session I will demonstrate some of the \"out of the box\" image processing tools available in the PySAP-MRI and PySAP-Astro plugins. In particular, I will focus on some standard problems like denoising or deconvolving galaxy images, and reconstructing subsampled MRI scans of a brain. I will also show how to use some of the modular features of PySAP to design image processing tools for new problems of even different imaging domains.\n",
    "\n",
    "Throughout the session I will endeavour to provide some basic technical background and present the problems such that it should be possible for everyone in the audience to follow. I will also include links to tutorials for more in-depth explanations of some of these topics for those who are interested.\n",
    "\n",
    "Finally, I will reserve a few minutes at the end to explain how you can contribute to the development of PySAP."
   ]
  },
  {
   "cell_type": "markdown",
   "id": "249e2a7d",
   "metadata": {},
   "source": [
    "## Contents\n",
    "\n",
    "1. [Notebook Set Up](#1-Notebook-Set-Up)\n",
    "1. [Getting Started with PySAP](#2-Getting-Started-with-PySAP)\n",
    "1. [PySAP Basics](#3-PySAP-Basics)\n",
    "1. [ModOpt](#4-ModOpt)\n",
    "1. [PySAP Plug-Ins](#5-PySAP-Plug-Ins)\n",
    "1. [Contributing to PySAP](#6-Contributing-to-PySAP)"
   ]
  },
  {
   "cell_type": "markdown",
   "id": "955cd993",
   "metadata": {},
   "source": [
    "## 1 Notebook Set Up\n",
    "\n",
    "### Requirements\n",
    "\n",
    "In order to follow this hands-on tutorial you need to have the following packages installed.\n",
    "\n",
    "1. [PySAP](https://github.com/CEA-COSMIC/pysap)\n",
    "1. [Jupyter](https://jupyter.org/)\n",
    "1. [tablulate](https://github.com/astanin/python-tabulate)\n",
    "\n",
    "Details on how install PySAP are provided below, the others can be installed as follows.\n",
    "\n",
    "```bash\n",
    "$ pip install jupyter tabulate\n",
    "```\n",
    "\n",
    "> Here `$` represents your terminal prompt.\n",
    "\n",
    "\n",
    "### Set Up\n",
    "\n",
    "The following cell imports some packages and defines some parameters used throughout the notebook. Be sure to execute these cells before moving on to the next section."
   ]
  },
  {
   "cell_type": "code",
   "execution_count": null,
   "id": "f3c6bf48",
   "metadata": {},
   "outputs": [],
   "source": [
    "# Uncomment for Google Colab use only\n",
    "# !pip install python-pysap"
   ]
  },
  {
   "cell_type": "code",
   "execution_count": null,
   "id": "58831613",
   "metadata": {},
   "outputs": [],
   "source": [
    "# Uncomment for Google Colab or Docker use \n",
    "# !pip install tabulate"
   ]
  },
  {
   "cell_type": "code",
   "execution_count": null,
   "id": "63d84c00",
   "metadata": {},
   "outputs": [],
   "source": [
    "import numpy as np\n",
    "import matplotlib.pyplot as plt\n",
    "import tabulate\n",
    "import warnings\n",
    "from matplotlib.pylab import rcParams\n",
    "from IPython.display import HTML, display\n",
    "\n",
    "# Default figure size\n",
    "rcParams['figure.figsize'] = (14.0, 8.0)\n",
    "# Default image colour map\n",
    "cmap = 'magma'\n",
    "# Suppress warnings\n",
    "warnings.filterwarnings('ignore')"
   ]
  },
  {
   "cell_type": "markdown",
   "id": "8af0cb99",
   "metadata": {},
   "source": [
    "## 2 Getting Started with PySAP\n",
    "\n",
    "In this section I will walk you through what PySAP is, how to install it and how to check that everything is working as expected.\n",
    "\n",
    "### What is PySAP?\n",
    "\n",
    "The **Python Sparse data Analysis Package (PySAP)** is a suite of Python packages designed to tackle image processing problems using sparsity. The suite is currently comprised of\n",
    "\n",
    "- [PySAP](https://github.com/CEA-COSMIC/pysap): the core package that contains image tranforms including bindings to [Sparse2D](https://github.com/CosmoStat/Sparse2D)\n",
    "- [ModOpt](https://github.com/CEA-COSMIC/ModOpt): a library of modular tools for solving inverse problems\n",
    "- [PySAP-MRI](https://github.com/CEA-COSMIC/pysap-mri): tools specifically designed for magenetic resonance imaging problems\n",
    "- [PySAP-Astro](https://github.com/CEA-COSMIC/pysap-astro): tools specifically designed for astrophysical imaging problems\n",
    "\n",
    "PySAP is still growing with new plug-ins already in development for applications such as electron tomography."
   ]
  },
  {
   "cell_type": "markdown",
   "id": "d0b4a4a7",
   "metadata": {},
   "source": [
    "### Installation\n",
    "\n",
    "Now that you know what PySAP is, how do you go about installing it? \n",
    "\n",
    "If you are on a computer running Linux or macOS with Python $\\geq 3.6$ then it should be as simple as\n",
    "\n",
    "```bash\n",
    "$ pip install python-pysap\n",
    "```\n",
    "\n",
    "this should install the full PySAP suite along with all the required dependencies. Note that if you install the macOS 10.15 wheel you will also need to manually install PyQT5 and the PySAP plug-ins.\n",
    "\n",
    "```bash\n",
    "$ pip install pyqt5 pysap-astro pysap-mri\n",
    "```\n",
    "\n",
    "If you are running Windows or if the `pip install` fails you can also download the PySAP [Docker](https://www.docker.com/) image as follows\n",
    "\n",
    "```bash\n",
    "$ docker pull ceacosmic/pysap\n",
    "```\n",
    "\n",
    "which comes with PySAP pre-installed.\n",
    "\n",
    "> See the [PySAP repository](https://github.com/CEA-COSMIC/pysap#installation) for more installation details and options."
   ]
  },
  {
   "cell_type": "markdown",
   "id": "de3e3a50",
   "metadata": {},
   "source": [
    "### Running this notebook\n",
    "\n",
    "Once you have PySAP and the other requirements installed you should be able to run all of the exercises and examples in this notebook without any issues. If you installed PySAP via `pip` then simply run the following command.\n",
    "\n",
    "```bash\n",
    "$ jupyter notebook\n",
    "```\n",
    "\n",
    "If you installed PySAP via the Docker image then run the following command.\n",
    "\n",
    "```bash\n",
    "$ docker run -p 8888:8888 -v ${PWD}:/home ceacosmic/pysap\n",
    "```\n",
    "\n",
    "This will run launch Jupyter notebook as usual where you have access to your current working directory but using a Docker container as the backend.\n",
    "\n",
    "Alternatively this notebook can be run remotely using Google Colab or Binder.\n",
    "\n",
    "[![Open In Colab](https://colab.research.google.com/assets/colab-badge.svg)](https://colab.research.google.com/github/sfarrens/pysap-wtemts-2021/blob/main/Hand-OnPySAP.ipynb)\n",
    "\n",
    "[![Binder](https://mybinder.org/badge_logo.svg)](https://mybinder.org/v2/gh/sfarrens/pysap-wtemts-2021/HEAD?filepath=Hand-OnPySAP.ipynb)\n"
   ]
  },
  {
   "cell_type": "markdown",
   "id": "ae281549",
   "metadata": {},
   "source": [
    "### Checking that everything works\n",
    "\n",
    "If everyting went to plan you should be able to import `pysap` and print the package information."
   ]
  },
  {
   "cell_type": "code",
   "execution_count": null,
   "id": "8cdd4c98",
   "metadata": {},
   "outputs": [],
   "source": [
    "# Import PySAP\n",
    "import pysap\n",
    "\n",
    "# Print package info\n",
    "print(pysap.info())\n",
    "\n",
    "# Check that the PySAP PySparse bindings were built correctly\n",
    "try:\n",
    "    import pysparse\n",
    "except ImportError:\n",
    "    print('It looks like PySAP did not install correctly.')\n",
    "else:\n",
    "    print('It looks like PySAP is properly installed!')"
   ]
  },
  {
   "cell_type": "markdown",
   "id": "47f1f634",
   "metadata": {},
   "source": [
    "If you see PySAP v0.0.5 and no error messages you should be good to go!"
   ]
  },
  {
   "cell_type": "markdown",
   "id": "66b6df48",
   "metadata": {},
   "source": [
    "## 3 PySAP Basics\n",
    "\n",
    "The [PySAP API documentation](https://python-pysap.readthedocs.io/) includes the full list of PySAP features, here will simply look at a few of the basics."
   ]
  },
  {
   "cell_type": "markdown",
   "id": "31a0389b",
   "metadata": {},
   "source": [
    "### PySAP Image Objects\n",
    "\n",
    "As PySAP is primarily an image processing tool it will come as no surprise that the basic PySAP data object is called `Image`. \n",
    "\n",
    "In order to demonstrate how to create a PySAP `Image` object we will need a sample image, so let's import a picture of a racoon from Scipy!"
   ]
  },
  {
   "cell_type": "code",
   "execution_count": null,
   "id": "6fac93c7",
   "metadata": {},
   "outputs": [],
   "source": [
    "# Load a sample image from Scipy\n",
    "from scipy.misc import face\n",
    "\n",
    "# Make the image monochromatic\n",
    "racoon = face()[..., 0]\n",
    "\n",
    "# Check the data type\n",
    "print(f'racoon is of type {type(racoon)}')\n",
    "\n",
    "# Display the image\n",
    "plt.imshow(racoon, cmap='gray')\n",
    "plt.show()"
   ]
  },
  {
   "cell_type": "markdown",
   "id": "437ed717",
   "metadata": {},
   "source": [
    "Now we can create a PySAP `Image`."
   ]
  },
  {
   "cell_type": "code",
   "execution_count": null,
   "id": "9146824d",
   "metadata": {},
   "outputs": [],
   "source": [
    "# Create PySAP Image object\n",
    "pysap_racoon = pysap.Image(data=racoon)"
   ]
  },
  {
   "cell_type": "markdown",
   "id": "de020ac2",
   "metadata": {},
   "source": [
    "By running `help` on this object you can see the available properties."
   ]
  },
  {
   "cell_type": "code",
   "execution_count": null,
   "id": "347c77e7",
   "metadata": {},
   "outputs": [],
   "source": [
    "help(pysap_racoon)"
   ]
  },
  {
   "cell_type": "markdown",
   "id": "5bbd4547",
   "metadata": {},
   "source": [
    "Let's have a look at the `show` method."
   ]
  },
  {
   "cell_type": "code",
   "execution_count": null,
   "id": "0a690fca",
   "metadata": {},
   "outputs": [],
   "source": [
    "# Uncomment the line below to display an interactive PySAP Image.\n",
    "# pysap_racoon.show()"
   ]
  },
  {
   "cell_type": "markdown",
   "id": "82e8d179",
   "metadata": {},
   "source": [
    "### Loading sample data\n",
    "\n",
    "As racoons are not currently the main topic of research for most PySAP tools, it would be convenient to have some more pertinent data. Fortunately, PySAP comes with sample images to play with. In the following cells we will load some sample images and display them."
   ]
  },
  {
   "cell_type": "code",
   "execution_count": null,
   "id": "062f08c5",
   "metadata": {},
   "outputs": [],
   "source": [
    "# Import function to load sample data\n",
    "from pysap.data import get_sample_data\n",
    "\n",
    "# Load sample astro image\n",
    "astro_image = get_sample_data('astro-fits')\n",
    "mri_image = get_sample_data('mri-slice-nifti')\n",
    "\n",
    "# Check the data type\n",
    "print(f'The data are type {type(astro_image)}')"
   ]
  },
  {
   "cell_type": "markdown",
   "id": "3fd8d770",
   "metadata": {},
   "source": [
    "As you can see the sample data are PySAP `Image` objects.\n",
    "\n",
    "> <span style=\"color:#E86868;font-family:verdana\">Exercise: Try executing the `show` method for these objects.</span>"
   ]
  },
  {
   "cell_type": "code",
   "execution_count": null,
   "id": "750e7a75",
   "metadata": {},
   "outputs": [],
   "source": [
    "# Execise uncomment the lines below and display the PySAP Image objects.\n",
    "# astro_image.?\n",
    "# mri_image.?"
   ]
  },
  {
   "cell_type": "markdown",
   "id": "c563f3ad",
   "metadata": {},
   "source": [
    "For the purposes of this tutorial, it will be more convenient to display the images within the notebook. Note that to do so we can treat these objects are standard Numpy arrays."
   ]
  },
  {
   "cell_type": "code",
   "execution_count": null,
   "id": "f2bf2415",
   "metadata": {},
   "outputs": [],
   "source": [
    "# Display the astro image using matplotlib\n",
    "plt.imshow(astro_image, cmap=cmap)\n",
    "plt.show()"
   ]
  },
  {
   "cell_type": "code",
   "execution_count": null,
   "id": "23c13dc4",
   "metadata": {},
   "outputs": [],
   "source": [
    "# Display the MR image using matplotlib\n",
    "plt.imshow(mri_image, cmap=cmap)\n",
    "plt.show()"
   ]
  },
  {
   "cell_type": "markdown",
   "id": "00fa80ff",
   "metadata": {},
   "source": [
    "### Wavelet transforms\n",
    "\n",
    "One of the essential tools for sparse image analysis are [wavelets](https://en.wikipedia.org/wiki/Wavelet). Wavelets allow us to decompose images into layers of different spatial frequencies. \n",
    "\n",
    "> We don't have time to cover wavelets in more depth in this notebook, but you may want to checkout [this tutorial](https://github.com/CosmoStat/Tutorials/blob/ada/wavelets_1.ipynb) for an introduction.\n",
    "\n",
    "PySAP includes a host of wavelet transforms that can be applied to various different types of images. In the following cell we will display the list of available transforms."
   ]
  },
  {
   "cell_type": "code",
   "execution_count": null,
   "id": "9eb9b703",
   "metadata": {},
   "outputs": [],
   "source": [
    "# Display the list of PySAP transforms\n",
    "table = [[index + 1, elem] for index, elem in enumerate(pysap.AVAILABLE_TRANSFORMS)]\n",
    "display(HTML(tabulate.tabulate(table, tablefmt='html')))"
   ]
  },
  {
   "cell_type": "code",
   "execution_count": null,
   "id": "29e33683",
   "metadata": {},
   "outputs": [],
   "source": [
    "print(f'PySAP has a total of {len(pysap.AVAILABLE_TRANSFORMS)} transforms available.')"
   ]
  },
  {
   "cell_type": "markdown",
   "id": "bcf34572",
   "metadata": {},
   "source": [
    "As you can see there quite a few transforms available.\n",
    "\n",
    "### Starlet transform\n",
    "\n",
    "Let's have a look at one wavelet in particular, the isotropic undecimated wavelet transform (or Starlet), which well suited for astronomical images (see Starck et al. 2015). In PySAP this is called `LinearWaveletTransformATrousAlgorithm`.\n",
    "\n",
    "In the following cell we will load this transform and then apply it to our sample astro image."
   ]
  },
  {
   "cell_type": "code",
   "execution_count": null,
   "id": "1e48e55a",
   "metadata": {},
   "outputs": [],
   "source": [
    "# Set number of scales\n",
    "n_scales = 4\n",
    "\n",
    "# Load the the starlet transform\n",
    "transform_name = 'LinearWaveletTransformATrousAlgorithm'\n",
    "starlet_transform = pysap.load_transform(transform_name)(nb_scale=n_scales, verbose=True)\n",
    "\n",
    "# Apply transform to sample image\n",
    "starlet_transform.data = astro_image\n",
    "starlet_transform.analysis()\n",
    "astro_image_trans = starlet_transform.analysis_data\n",
    "\n",
    "# Display the result\n",
    "fig, axes = plt.subplots(n_scales // 2 + n_scales % 2, 2)\n",
    "axes = axes.flatten()\n",
    "if n_scales % 2:\n",
    "    fig.delaxes(axes[-1])\n",
    "for index, (ax, scale) in enumerate(zip(axes, astro_image_trans)):\n",
    "    ax.imshow(scale, cmap=cmap)\n",
    "    if index == n_scales - 1:\n",
    "        ax.set_title('Coarse Scale', fontsize=20)\n",
    "    else:\n",
    "        ax.set_title(f'Wavelet Scale {index + 1}', fontsize=20)\n",
    "plt.tight_layout()\n",
    "plt.show()"
   ]
  },
  {
   "cell_type": "markdown",
   "id": "a9a68634",
   "metadata": {},
   "source": [
    "As you can see the image has deen decomposed into different spatial frequencies allowing us to analyse each one independently."
   ]
  },
  {
   "cell_type": "markdown",
   "id": "676b13dd",
   "metadata": {},
   "source": [
    "> <span style=\"color:#E86868;font-family:verdana\">Exercise: Try increasing the number of scales, what changes?</span>  \n",
    "> <span style=\"color:#E86868;font-family:verdana\">Exercise: Try using the built-in show method on the `starlet_transform` object.</span>"
   ]
  },
  {
   "cell_type": "markdown",
   "id": "1e30f99d",
   "metadata": {},
   "source": [
    "One of the nicest features of the starlet transform is that we can recover the original image by simply adding the different scales together."
   ]
  },
  {
   "cell_type": "code",
   "execution_count": null,
   "id": "728fef9d",
   "metadata": {},
   "outputs": [],
   "source": [
    "# Reconstruct original image\n",
    "astro_image_recons = np.sum(astro_image_trans, axis=0)\n",
    "\n",
    "# Display the reconstruction\n",
    "plt.imshow(astro_image_recons, cmap=cmap)\n",
    "plt.show()"
   ]
  },
  {
   "cell_type": "markdown",
   "id": "680fcc66",
   "metadata": {},
   "source": [
    "### Other Wavelet Transforms\n",
    "\n",
    "PySAP also supports [PyWavelets](https://pywavelets.readthedocs.io/) bases such as the [symlet](https://en.wikipedia.org/wiki/Symlet)."
   ]
  },
  {
   "cell_type": "code",
   "execution_count": null,
   "id": "d33bd616",
   "metadata": {},
   "outputs": [],
   "source": [
    "# Set number of scales\n",
    "n_scales = 2\n",
    "\n",
    "# Load the the wavelet transform\n",
    "transform_name = 'sym8'\n",
    "wavelet_transform = pysap.load_transform(transform_name)(nb_scale=n_scales, verbose=True)\n",
    "\n",
    "# Apply transform to sample image\n",
    "wavelet_transform.data = mri_image\n",
    "wavelet_transform.analysis()\n",
    "mri_image_trans = wavelet_transform.analysis_data\n",
    "\n",
    "# Display the result\n",
    "fig, axes = plt.subplots(n_scales + 1, 3)\n",
    "axes = axes.flatten()\n",
    "for ax in axes[1:3]:\n",
    "    fig.delaxes(ax)\n",
    "axes[0].imshow(mri_image_trans[0], cmap=cmap)\n",
    "axes[0].set_title('Coarse Scale', fontsize=20)\n",
    "for index, (ax, image) in enumerate(zip(axes[3:], mri_image_trans[1:])):\n",
    "    ax.imshow(image, cmap=cmap)\n",
    "    if not index % 3:\n",
    "        ax.set_title(f'Wavelet Scale {index // 3 + 1}', fontsize=20)\n",
    "plt.tight_layout()\n",
    "plt.show()"
   ]
  },
  {
   "cell_type": "markdown",
   "id": "a2248c02",
   "metadata": {},
   "source": [
    "> Note that the symlet is anisotropic so there are multiple images for each scale and here the wavelet scales show increasing spatial frequencies.\n",
    "\n",
    "The following cell demonstrates how you would reconstruct the original image from the decomposition."
   ]
  },
  {
   "cell_type": "code",
   "execution_count": null,
   "id": "c9055eea",
   "metadata": {},
   "outputs": [],
   "source": [
    "# Apply transform to decomposed image\n",
    "wavelet_transform.analysis_data = mri_image_trans\n",
    "mri_image_recons = wavelet_transform.synthesis()\n",
    "\n",
    "# Display the result\n",
    "plt.imshow(mri_image_recons, cmap=cmap)\n",
    "plt.show()"
   ]
  },
  {
   "cell_type": "markdown",
   "id": "9f3e79ce",
   "metadata": {},
   "source": [
    "> In this example we have simply reassigned `wavelet_transform.analysis_data` to itself, in a more realistic application we would perform some operations on this data before performing the `synthesis` operation."
   ]
  },
  {
   "cell_type": "markdown",
   "id": "bd3a0190",
   "metadata": {},
   "source": [
    "## 4 ModOpt\n",
    "\n",
    "In this section we will consider linear inverse problems of the form \n",
    "\n",
    "$$y = Hx$$\n",
    "\n",
    "where $y$ is the observed/acquired data, $x$ is the underlying model or true data and $H$ is some form of degredation operator. For image processing problems we can consider $y$ the image one observes and $x$ the image one aims to recover.\n",
    "\n",
    "For a sparse regularisation problem this typically corresponds to an optimisation problem of the form \n",
    "\n",
    "$$\\begin{aligned} & \\underset{\\alpha}{\\text{argmin}} & \\frac{1}{2}\\|y-H\\phi\\alpha\\|_2^2 + \\lambda\\|\\alpha\\|_1\\end{aligned}$$\n",
    "\n",
    "where $\\alpha$ is a sparse representation of the data, $\\lambda$ is a regularisation coefficient and $\\phi$ is the sparsity transform (*i.e.* the wavelet transform).\n",
    "\n",
    "> For more details check out [this tutorial](https://github.com/CosmoStat/Tutorials/blob/ada/sparsity_1.ipynb)\n",
    "\n",
    "In order to solve this type of problem we need to employ an optimisation algorithm. There are many algorithms out there and they can be applied to a huge variety of problems. ModOpt offers standardised implementations of some well known algorithms with the flexibilty to be applied in different ways. This is done by breaking the above problem (and essentially any other) into modular components that include:\n",
    "\n",
    "- a gradient (*i.e.* how to solve the first $l2$-norm term, also referred to as the *data fidelty* term)\n",
    "- a linear operator (*i.e.* how to implement $\\phi$, for most PySAP applications this will be a given wavelet transform)\n",
    "- a proximity operator (*i.e.* how to implement the $l1$-norm above or indeed any other form of regularisation)\n",
    "- a cost function (*i.e.* how to determine if the algorithm has converged)\n",
    "\n",
    "These pieces are then put into a given algorithm such as the [Forward-Backward algorithm](https://en.wikipedia.org/wiki/Forward%E2%80%93backward_algorithm).\n"
   ]
  },
  {
   "cell_type": "markdown",
   "id": "c2490174",
   "metadata": {},
   "source": [
    "### Linear Regression Example\n",
    "\n",
    "If you are not familiar with these types of problems or indeed the jargon above, don't worry! We will start by looking at something very familiar just to better illustrate the point; how to fit a line to a some data points (*i.e.* linear regression).\n",
    "\n",
    "Let's make a plotting function so we can display the results without having to repeat the same matplotlib code constantly."
   ]
  },
  {
   "cell_type": "code",
   "execution_count": null,
   "id": "09c1d1a5",
   "metadata": {},
   "outputs": [],
   "source": [
    "# Define a function for making regression plots\n",
    "def regression_plot(x1, y1, x2=None, y2=None):\n",
    "    \"\"\"Plot data points and a proposed fit.\n",
    "    \"\"\"\n",
    "\n",
    "    fig = plt.figure(figsize=(12, 8))\n",
    "    plt.plot(x1, y1, 'o', color=\"#19C3F5\", label='Data')\n",
    "    if not all([isinstance(var, type(None)) for var in (x2, y2)]):\n",
    "        plt.plot(x2, y2, '--', color='#FF4F5B', label='Model')\n",
    "        plt.title('Best Fit Line', fontsize=20)\n",
    "    plt.xlabel('x', fontsize=18)\n",
    "    plt.ylabel('y', fontsize=18)\n",
    "    plt.legend()\n",
    "    plt.show()"
   ]
  },
  {
   "cell_type": "markdown",
   "id": "88d5645b",
   "metadata": {},
   "source": [
    "Now let's define some data points and plot them."
   ]
  },
  {
   "cell_type": "code",
   "execution_count": null,
   "id": "800bc4a3",
   "metadata": {},
   "outputs": [],
   "source": [
    "# Set points in x-axis.\n",
    "x = np.linspace(0.0, 1.0, 21)\n",
    "\n",
    "# Set points in y-axis.\n",
    "y = np.array([0.486, 0.866, 0.944, 1.144, 1.103, 1.202, 1.166, 1.191, 1.124, 1.095, 1.122, 1.102, 1.099, 1.017,\n",
    "              1.111, 1.117, 1.152, 1.265, 1.380, 1.575, 1.857])\n",
    "\n",
    "# Plot the points\n",
    "regression_plot(x, y)"
   ]
  },
  {
   "cell_type": "markdown",
   "id": "f80cb210",
   "metadata": {},
   "source": [
    "You can probably alredy see by eye the line that should fit these data points, but how do we do it in practice?\n",
    "\n",
    "Well, this problem can actually be solved analytically*, but here we want to use an optimisation algorithm just for the sake of demonstration.\n",
    "\n",
    "> *See [this tutorial](https://github.com/CosmoStat/Tutorials/blob/ada/inverse_problems_1.ipynb) for an example.\n",
    "\n",
    "To that end, let's first define a function for the equation of a polynomial line.\n",
    "\n",
    "$$y = a_0 + a_1x + a_2x^2 + ... + a_kx^k = \\sum_{i=0}^{k}a_ix^i$$\n",
    "\n",
    "> <span style=\"color:#E86868;font-family:verdana\">Exercise: Implement the equation above in the cell below.</span>  \n",
    "> <span style=\"color:#E86868;font-family:verdana\">Hint: `a` should be list or numpy array that includes all values from $a_0$ to $a_k$.</span>"
   ]
  },
  {
   "cell_type": "code",
   "execution_count": null,
   "id": "383b85a6",
   "metadata": {},
   "outputs": [],
   "source": [
    "# Exercise: uncomment the cells below and implement the equation for a polynomial line\n",
    "\n",
    "#def y_func(x, a):\n",
    "#    return ?"
   ]
  },
  {
   "cell_type": "markdown",
   "id": "07b09d6f",
   "metadata": {},
   "source": [
    "In order to fit this line to our data we need to know the values of $a_i$ and the order of the polynomial. Let's assume it's a third order polynomial and make a bad first guess at the values of $a_i$ and see what happens."
   ]
  },
  {
   "cell_type": "code",
   "execution_count": null,
   "id": "8577e8ee",
   "metadata": {},
   "outputs": [],
   "source": [
    "# Baf first guess at values of a_i\n",
    "a_guess = np.zeros(4)\n",
    "\n",
    "# Display the result\n",
    "regression_plot(x, y, x, y_func(x, a_guess))"
   ]
  },
  {
   "cell_type": "markdown",
   "id": "fc0c77c8",
   "metadata": {},
   "source": [
    "Unsurprisingly this is a pretty bad fit to the data. However, if we take another look at our equation $y = \\sum_{i=0}^{k}a_ix^i$ we might notice that this looks very similar to our definition of a linear inverse problem $y=Hx$. \n",
    "\n",
    "The trick here is note that the model that we want to recover are the values of $a_i$, therefore the operator $H$ is actually comprised of the values of $x$ from our data set. To construct this matrix we simply need all the values of $x$ for each order of our polynomial."
   ]
  },
  {
   "cell_type": "code",
   "execution_count": null,
   "id": "0712c178",
   "metadata": {},
   "outputs": [],
   "source": [
    "# Construct matrix H\n",
    "H = np.array([np.zeros(x.size), x, x ** 2, x ** 3]).T"
   ]
  },
  {
   "cell_type": "markdown",
   "id": "8783d1be",
   "metadata": {},
   "source": [
    "Now we can define our optimisation problem as follows.\n",
    "\n",
    "$$\\begin{aligned} & \\underset{x}{\\text{argmin}} & \\frac{1}{2}\\|y-Hx\\|_2^2\\end{aligned}$$\n",
    "\n",
    "> Note that we don't require any specific regularisation for this simple problem.\n",
    "\n",
    "All that is left to do is break this problem down to the components needed for ModOpt.\n",
    "\n",
    "Let's start with the gradient. ModOpt contains a predefined gradient of the form \n",
    "\n",
    "$$\\nabla F(a) = H^{T}(Ha-y)$$\n",
    "\n",
    "simply called `GradBasic`."
   ]
  },
  {
   "cell_type": "code",
   "execution_count": null,
   "id": "f2f92a45",
   "metadata": {},
   "outputs": [],
   "source": [
    "# Import GradBasic from ModOpt\n",
    "from modopt.opt.gradient import GradBasic\n",
    "\n",
    "# Create a gradient object\n",
    "grad_op = GradBasic(y, lambda x: np.dot(H, x), lambda x: np.dot(H.T, x), verbose=False)"
   ]
  },
  {
   "cell_type": "markdown",
   "id": "2c744b33",
   "metadata": {},
   "source": [
    "Our particular problem doesn't have a regularisation term so we can simply define an identity operator for the proximity operator."
   ]
  },
  {
   "cell_type": "code",
   "execution_count": null,
   "id": "4f32299d",
   "metadata": {},
   "outputs": [],
   "source": [
    "# Import IdentityProx from ModOpt\n",
    "from modopt.opt.proximity import IdentityProx\n",
    "\n",
    "# Create a proximity object\n",
    "prox_op = IdentityProx()"
   ]
  },
  {
   "cell_type": "markdown",
   "id": "a0eec9f6",
   "metadata": {},
   "source": [
    "ModOpt operators specify their contribution to the total cost, so we simply need to specify which operators are used in our problem to the `costObj`."
   ]
  },
  {
   "cell_type": "code",
   "execution_count": null,
   "id": "af1f4c8c",
   "metadata": {},
   "outputs": [],
   "source": [
    "# Import costObj from ModOpt\n",
    "from modopt.opt.cost import costObj\n",
    "\n",
    "# Create a cost object\n",
    "cost = costObj([grad_op, prox_op], verbose=False)"
   ]
  },
  {
   "cell_type": "markdown",
   "id": "df659b9b",
   "metadata": {},
   "source": [
    "Finally, we need to choose an algorithm to solve our optimisation problem. For this exercise we can use the aforementioned Forward-Backward algorithm.\n",
    "\n",
    "Let's import it from ModOpt."
   ]
  },
  {
   "cell_type": "code",
   "execution_count": null,
   "id": "461e2278",
   "metadata": {},
   "outputs": [],
   "source": [
    "# Import Forward-Backward algorithm from ModOpt\n",
    "from modopt.opt.algorithms import ForwardBackward"
   ]
  },
  {
   "cell_type": "markdown",
   "id": "0677250c",
   "metadata": {},
   "source": [
    "> <span style=\"color:#E86868;font-family:verdana\">Exercise: Check the properties of the ForwardBackward class</span>"
   ]
  },
  {
   "cell_type": "code",
   "execution_count": null,
   "id": "d2d70b91",
   "metadata": {},
   "outputs": [],
   "source": [
    "# Exercise check the properties of ForwardBackward algorithm object\n",
    "\n",
    "# ? "
   ]
  },
  {
   "cell_type": "markdown",
   "id": "8fb6875f",
   "metadata": {},
   "source": [
    "> <span style=\"color:#E86868;font-family:verdana\">Exercise: Create a ForwardBackward class object. Set a value of $\\beta=0.01$, and set `auto_iterate=False` and `verbose=False`.</span>  \n",
    "> <span style=\"color:#E86868;font-family:verdana\">Hint: Everything you need has already been defined in previous cells.</span>\n"
   ]
  },
  {
   "cell_type": "code",
   "execution_count": null,
   "id": "efed9b2b",
   "metadata": {},
   "outputs": [],
   "source": [
    "# Exercise uncomment the lines below and creat a ForwardBackward algorithm object\n",
    "\n",
    "#alg = ForwardBackward(?)"
   ]
  },
  {
   "cell_type": "markdown",
   "id": "191515bb",
   "metadata": {},
   "source": [
    "Let's run the algorithm and see what happens."
   ]
  },
  {
   "cell_type": "code",
   "execution_count": null,
   "id": "1e095ecf",
   "metadata": {},
   "outputs": [],
   "source": [
    "# Run the algorithm for 500 iteations\n",
    "alg.iterate(500)"
   ]
  },
  {
   "cell_type": "code",
   "execution_count": null,
   "id": "e158c306",
   "metadata": {},
   "outputs": [],
   "source": [
    "# Extract the final result\n",
    "a_final = alg.x_final\n",
    "\n",
    "# Display the result\n",
    "regression_plot(x, y, x, y_func(x, a_final))"
   ]
  },
  {
   "cell_type": "markdown",
   "id": "f6aadfd5",
   "metadata": {},
   "source": [
    "For the sake of time we have skipped over several subtleties and only looked a very simple problem, but hopefully this has demonstrated how ModOpt can be used to solve a linear inverse problem."
   ]
  },
  {
   "cell_type": "markdown",
   "id": "bbf74864",
   "metadata": {},
   "source": [
    "## 5 PySAP Plug-Ins\n",
    "\n",
    "Now that you are familiar with some of the basic functionality of PySAP and how to solve inverse problems, let's take a look at some of the ways these tools can be combined to solve application specific problems.\n"
   ]
  },
  {
   "cell_type": "markdown",
   "id": "70965d22",
   "metadata": {},
   "source": [
    "### PySAP-Astro\n",
    "\n",
    "PySAP-Astro aims to provide more user-friendly tools to apply to astromical data."
   ]
  },
  {
   "cell_type": "markdown",
   "id": "52de3711",
   "metadata": {},
   "source": [
    "Let's start with a simple denoising problem. First, we will use a PySAP sample galaxy image called `astro-ngc2997`.\n",
    "\n",
    "> <span style=\"color:#E86868;font-family:verdana\">Exercise: Complete the cell below to download the sample image.</span>"
   ]
  },
  {
   "cell_type": "code",
   "execution_count": null,
   "id": "58513c26",
   "metadata": {},
   "outputs": [],
   "source": [
    "# Exercise: Uncomment and complete the following lines to load the sample galaxy image and display it\n",
    "\n",
    "# Load the galaxy image\n",
    "# galaxy = \n",
    "\n",
    "# Display the image\n",
    "# plt.imshow(galaxy, cmap=cmap)\n",
    "# plt.show()"
   ]
  },
  {
   "cell_type": "markdown",
   "id": "17a757e8",
   "metadata": {},
   "source": [
    "Next, we will artificially add some white Gaussian noise to the image to mimic a particularly noisy observation."
   ]
  },
  {
   "cell_type": "code",
   "execution_count": null,
   "id": "db14c7a2",
   "metadata": {},
   "outputs": [],
   "source": [
    "# Load add_noise function from ModOpt\n",
    "from modopt.signal.noise import add_noise\n",
    "\n",
    "# Set noise standard deviation\n",
    "noise_std = 100\n",
    "# Add noise to image\n",
    "obs_galaxy = add_noise(galaxy, sigma=noise_std)\n",
    "\n",
    "# Display the image\n",
    "plt.imshow(obs_galaxy, cmap=cmap)\n",
    "plt.show()"
   ]
  },
  {
   "cell_type": "markdown",
   "id": "4a62b4f6",
   "metadata": {},
   "source": [
    "> Note we added quit bit of noise for the sake of visualisation\n",
    "\n",
    "Finally, we will add the `denoise` function from the PySAP-Astro plug-in and use it to remove the noise we added."
   ]
  },
  {
   "cell_type": "code",
   "execution_count": null,
   "id": "7ab6e4cb",
   "metadata": {},
   "outputs": [],
   "source": [
    "# Load denoising function from PySAP-Astro\n",
    "from pysap.plugins.astro.denoising.denoise import denoise\n",
    "\n",
    "# Set number of wavelet scales\n",
    "n_scales = 4\n",
    "# Denoise the image\n",
    "denoise_galaxy = denoise(obs_galaxy, n_scales=n_scales)\n",
    "\n",
    "# Display the image\n",
    "plt.imshow(denoise_galaxy, cmap=cmap)\n",
    "plt.show()"
   ]
  },
  {
   "cell_type": "markdown",
   "id": "68d664e0",
   "metadata": {},
   "source": [
    "As you can see (particularly from the outter regions) the noise has been removed with a very simple operation. Behind the scens PyASP-Astro decomposes the image using the starlet transform, then performs a thresholding in the high frequency layes before reconstructing the image."
   ]
  },
  {
   "cell_type": "markdown",
   "id": "7a7c0274",
   "metadata": {},
   "source": [
    "### PySAP-MRI\n",
    "\n",
    "Similarly to PySAP-Astro, PySAP-MRI aims to provide more user-friendly tools to apply to MRI data."
   ]
  },
  {
   "cell_type": "markdown",
   "id": "df8e7047",
   "metadata": {},
   "source": [
    "For this demonstration we will aim to reconstruct a 2D image of a brain with some masked frequencies. We start by loading the image and corresponding mask."
   ]
  },
  {
   "cell_type": "code",
   "execution_count": null,
   "id": "e64370ae",
   "metadata": {},
   "outputs": [],
   "source": [
    "# Load the MRI data\n",
    "mri_data = get_sample_data('2d-mri')\n",
    "\n",
    "# Load the K-Space Cartesian Mask\n",
    "mri_mask = get_sample_data(\"cartesian-mri-mask\")\n",
    "\n",
    "# Display the images\n",
    "fig, axes = plt.subplots(1, 2)\n",
    "axes = axes.flatten()\n",
    "axes[0].imshow(mri_data, cmap=cmap)\n",
    "axes[1].imshow(mri_mask, cmap=cmap)\n",
    "plt.show()"
   ]
  },
  {
   "cell_type": "markdown",
   "id": "a2877941",
   "metadata": {},
   "source": [
    "Next, we convert the mask into positions in Fourier space and use it to mimic an MRI acquisition."
   ]
  },
  {
   "cell_type": "code",
   "execution_count": null,
   "id": "40a4d7cc",
   "metadata": {},
   "outputs": [],
   "source": [
    "from mri.operators import FFT\n",
    "from mri.operators.utils import convert_mask_to_locations\n",
    "\n",
    "# Get the locations of the kspace samples\n",
    "kspace_loc = convert_mask_to_locations(mri_mask.data)\n",
    "\n",
    "# Generate the subsampled kspace\n",
    "fourier_op = FFT(samples=kspace_loc, shape=mri_data.shape)\n",
    "kspace_data = fourier_op.op(mri_data)\n",
    "\n",
    "# Display the centre of the kspace image\n",
    "plt.imshow(np.real(kspace_data[220:290, 220:290]), cmap=cmap)\n",
    "plt.show()"
   ]
  },
  {
   "cell_type": "markdown",
   "id": "6183bed1",
   "metadata": {},
   "source": [
    "Now if we try simply transform this masked Fourier data into direct space we get a fairly poor reconstruction due to the missing frequencies."
   ]
  },
  {
   "cell_type": "code",
   "execution_count": null,
   "id": "e70d52ce",
   "metadata": {},
   "outputs": [],
   "source": [
    "# Transform kspace data to direct space\n",
    "mri_data_recons_zero = np.abs(fourier_op.adj_op(kspace_data))\n",
    "\n",
    "# Display the reconstruction\n",
    "plt.imshow(mri_data_recons_zero, cmap=cmap)\n",
    "plt.show()"
   ]
  },
  {
   "cell_type": "markdown",
   "id": "faf2bea8",
   "metadata": {},
   "source": [
    "Instead we can try to use sparsity as a regulariser to reconstruct the image. To so so we will use some ModOpt operators and tools from PySAP-MRI."
   ]
  },
  {
   "cell_type": "code",
   "execution_count": null,
   "id": "3ae70f88",
   "metadata": {},
   "outputs": [],
   "source": [
    "# Import operators from ModOpt\n",
    "from modopt.opt.proximity import SparseThreshold\n",
    "from modopt.opt.linear import Identity\n",
    "# Import tools from PySAP-MRI\n",
    "from mri.operators import WaveletN\n",
    "from mri.reconstructors import SingleChannelReconstructor\n",
    "\n",
    "# Define a linear operator using the symlet transform\n",
    "linear_op = WaveletN(wavelet_name='sym8', nb_scales=4)\n",
    "# Define an operator to implement sparse thresholding\n",
    "regularizer_op = SparseThreshold(Identity(), 2 * 1e-7, thresh_type='soft')\n",
    "# Define a PySAP-MRI image reconstructor object\n",
    "reconstructor = SingleChannelReconstructor(\n",
    "    fourier_op=fourier_op,\n",
    "    linear_op=linear_op,\n",
    "    regularizer_op=regularizer_op,\n",
    "    gradient_formulation='synthesis',\n",
    "    verbose=1,\n",
    ")"
   ]
  },
  {
   "cell_type": "code",
   "execution_count": null,
   "id": "6db3ab10",
   "metadata": {},
   "outputs": [],
   "source": [
    "# Perform the reconstruction\n",
    "x_final, *_ = reconstructor.reconstruct(\n",
    "    kspace_data=kspace_data,\n",
    "    optimization_alg='fista',\n",
    "    num_iterations=200,\n",
    ")\n",
    "\n",
    "mri_recons = np.abs(x_final)"
   ]
  },
  {
   "cell_type": "markdown",
   "id": "a951d7be",
   "metadata": {},
   "source": [
    "Let's have a look at the result."
   ]
  },
  {
   "cell_type": "code",
   "execution_count": null,
   "id": "d453a654",
   "metadata": {},
   "outputs": [],
   "source": [
    "plt.imshow(mri_recons, cmap=cmap)\n",
    "plt.show()"
   ]
  },
  {
   "cell_type": "markdown",
   "id": "5f86b9a0",
   "metadata": {},
   "source": [
    "Not bad!"
   ]
  },
  {
   "cell_type": "markdown",
   "id": "b9fd9332",
   "metadata": {},
   "source": [
    "## 6 Contributing to PySAP\n",
    "\n",
    "Hopefully I have given you enough of a taste of PySAP to wet your appetites. The code is fully open source and we would be very happy for anyone to contribute and help us to improve things.\n",
    "\n",
    "### Contribution Guidelines\n",
    "\n",
    "We have written a set of [Contribution Guidelines](https://github.com/CEA-COSMIC/pysap/blob/master/CONTRIBUTING.md) to help new developers get started.\n",
    "\n",
    "For any question not answered there you can [open an issue](https://github.com/CEA-COSMIC/pysap/issues/new/choose) on the repository and we will do our best to help you out.\n",
    "\n",
    "### New Plug-Ins\n",
    "\n",
    "Do you have an idea for a new PySAP plug-in? We have a [template repository](https://github.com/CEA-COSMIC/pysap-extplugin) that you can use as the basis."
   ]
  }
 ],
 "metadata": {
  "kernelspec": {
   "display_name": "Python 3",
   "language": "python",
   "name": "python3"
  },
  "language_info": {
   "codemirror_mode": {
    "name": "ipython",
    "version": 3
   },
   "file_extension": ".py",
   "mimetype": "text/x-python",
   "name": "python",
   "nbconvert_exporter": "python",
   "pygments_lexer": "ipython3",
   "version": "3.8.8"
  }
 },
 "nbformat": 4,
 "nbformat_minor": 5
}
